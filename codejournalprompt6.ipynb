{
 "cells": [
  {
   "cell_type": "markdown",
   "id": "390b4615-f679-453b-91af-51069eb14f73",
   "metadata": {},
   "source": [
    "# Tabulating sin(x) and cos(x) functions in python"
   ]
  },
  {
   "cell_type": "markdown",
   "id": "e23f3653-6a13-41d9-8027-b01d8dbe1b44",
   "metadata": {},
   "source": [
    "This notebook defines and uses functions for computing the values of the sine and cosine of x for x between 0 and 2pi, and printing the first 10 results."
   ]
  },
  {
   "cell_type": "markdown",
   "id": "ccf6f736-2889-4815-b2f6-dfe3406286e1",
   "metadata": {},
   "source": [
    "## This cell defines a function 'my_sin(x)' that prints the sine of x using NumPy."
   ]
  },
  {
   "cell_type": "code",
   "execution_count": 5,
   "id": "a01d1aa3-af45-4233-b0c8-a28976b9cba5",
   "metadata": {},
   "outputs": [],
   "source": [
    "import numpy as np\n",
    "def my_sin(x):\n",
    "    result = np.sin(x)\n",
    "    print(result)"
   ]
  },
  {
   "cell_type": "markdown",
   "id": "fa31fd40-75a9-49df-99ba-bb86f74b7352",
   "metadata": {},
   "source": [
    "## This cell defines a function 'my_cos(x)' that prints the cosine of x using NumPy.\n",
    "  "
   ]
  },
  {
   "cell_type": "code",
   "execution_count": 6,
   "id": "66c95e34-98ba-4273-aa8d-e6dbb81a265f",
   "metadata": {},
   "outputs": [],
   "source": [
    "def my_cos(x):\n",
    "    result = np.cos(x)\n",
    "    print(result)"
   ]
  },
  {
   "cell_type": "markdown",
   "id": "3ee36c77-4424-446e-9665-93860c3d1a1d",
   "metadata": {},
   "source": [
    "## This cell creates arrays for x, sinx, and cosx where x is sampled between 0 and 2pi with 1000 evenly spaced points."
   ]
  },
  {
   "cell_type": "code",
   "execution_count": 8,
   "id": "cbb759ba-8366-447c-aa39-34b2f198ea94",
   "metadata": {},
   "outputs": [],
   "source": [
    "x_values = np.linspace(0, 2 * np.pi, 1000)\n",
    "sin_values = np.sin(x_values)\n",
    "cos_values = np.cos(x_values)"
   ]
  },
  {
   "cell_type": "markdown",
   "id": "48537792-8f84-4043-94b9-fbd3af393029",
   "metadata": {},
   "source": [
    "## This cell uses a for loop to print the first 10 values of x, sinx, and cosx in columns."
   ]
  },
  {
   "cell_type": "code",
   "execution_count": 9,
   "id": "23d9ad1a-af5a-4225-9c08-328692e008ad",
   "metadata": {},
   "outputs": [
    {
     "name": "stdout",
     "output_type": "stream",
     "text": [
      "         x          sin(x)\n",
      "----------------------------------------\n",
      "       0.0             0.0             1.0\n",
      "  0.006289    0.0062894333      0.99998022\n",
      "   0.01258     0.012578618      0.99992089\n",
      "   0.01887     0.018867305        0.999822\n",
      "   0.02516     0.025155245      0.99968356\n",
      "   0.03145     0.031442191      0.99950557\n",
      "   0.03774     0.037727893      0.99928805\n",
      "   0.04403     0.044012102        0.999031\n",
      "   0.05032      0.05029457      0.99873443\n",
      "   0.05661     0.056575049      0.99839835\n"
     ]
    }
   ],
   "source": [
    "print(f\"{'x':>10} {'sin(x)':>15}\")\n",
    "print(\"-\" * 40)\n",
    "for i in range(10):\n",
    "    print(f\"{x_values[i]:10.4} {sin_values[i]:15.8} {cos_values[i]:15.8}\")"
   ]
  },
  {
   "cell_type": "code",
   "execution_count": null,
   "id": "1b7c4cfb-d9cc-44ee-aea4-90af2caeb0d3",
   "metadata": {},
   "outputs": [],
   "source": []
  }
 ],
 "metadata": {
  "kernelspec": {
   "display_name": "Python 3 (ipykernel)",
   "language": "python",
   "name": "python3"
  },
  "language_info": {
   "codemirror_mode": {
    "name": "ipython",
    "version": 3
   },
   "file_extension": ".py",
   "mimetype": "text/x-python",
   "name": "python",
   "nbconvert_exporter": "python",
   "pygments_lexer": "ipython3",
   "version": "3.13.9"
  }
 },
 "nbformat": 4,
 "nbformat_minor": 5
}
